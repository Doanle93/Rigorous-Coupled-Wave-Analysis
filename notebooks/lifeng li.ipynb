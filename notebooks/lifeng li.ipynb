{
 "cells": [
  {
   "cell_type": "markdown",
   "metadata": {},
   "source": [
    "## Property of Laurent Series\n",
    "Discontinuities in the specification of $\\epsilon_r$ affect convergence. (So rectangular gratings, it shouldn't be a problem if we consider a sinusoidal grating).\n",
    "\n",
    "Laurents' rule\n",
    "\\begin{equation}\n",
    "  h_n = \\sum_{m=-\\infty}^{\\infty}  f_{n-m}g_m\n",
    "\\end{equation}\n",
    "which actually looks like the cauchy sum rule for the product of two series\n",
    "\n",
    "The Laurent's series for a function with two concurrent jump discontinuities is:\n",
    "\\begin{equation}\n",
    "    h^{(M)}(x) = h_M(x) - \\sum_{x\\in U_{fg}}\\frac{\\hat f_p\\hat g_p}{2\\pi^2}\\Phi_M(x-x_p)\n",
    "\\end{equation}\n",
    "\n",
    "One of the interesting parts of the Laurent series for two concurrently discontinuous functions.\n",
    "\\begin{equation}\n",
    "    \\Phi_M(x) = \\sum_{n=1}^{M}\\frac{cos(nx)}{n}\\sum_{|m|>M}\\frac{1}{m-n}\n",
    "\\end{equation}\n"
   ]
  },
  {
   "cell_type": "code",
   "execution_count": 11,
   "metadata": {},
   "outputs": [
    {
     "data": {
      "image/png": "[encoded data removed]",
      "text/plain": [
       "<Figure size 432x288 with 1 Axes>"
      ]
     },
     "metadata": {
      "needs_background": "light"
     },
     "output_type": "display_data"
    }
   ],
   "source": [
    "import numpy as np\n",
    "import matplotlib.pyplot as plt\n",
    "def Phi(M,x):\n",
    "    f = 0;\n",
    "    for i in range(1, M+1):\n",
    "        subsum = 0;\n",
    "        for m in range(M+1,100*M):\n",
    "            subsum+=(1/(m-i))+(1/(-m-i));\n",
    "        f+= (np.cos(i*x)/i)*subsum;\n",
    "        \n",
    "    return f;\n",
    "\n",
    "sequences = []\n",
    "for M in np.linspace(1,100):\n",
    "    sequences.append(Phi(int(M),0));\n",
    "\n",
    "plt.plot(sequences)\n",
    "plt.axhline((np.pi**2)/4)\n",
    "plt.show()"
   ]
  },
  {
   "cell_type": "markdown",
   "metadata": {},
   "source": [
    "## observation\n",
    "One can imagine that one could accelerate the convergence of this series using the Shanks transform"
   ]
  },
  {
   "cell_type": "code",
   "execution_count": null,
   "metadata": {},
   "outputs": [],
   "source": []
  }
 ],
 "metadata": {
  "kernelspec": {
   "display_name": "Python 3",
   "language": "python",
   "name": "python3"
  },
  "language_info": {
   "codemirror_mode": {
    "name": "ipython",
    "version": 3
   },
   "file_extension": ".py",
   "mimetype": "text/x-python",
   "name": "python",
   "nbconvert_exporter": "python",
   "pygments_lexer": "ipython3",
   "version": "3.7.0"
  }
 },
 "nbformat": 4,
 "nbformat_minor": 2
}
