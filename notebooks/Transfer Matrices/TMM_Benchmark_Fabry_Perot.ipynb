{
 "cells": [
  {
   "cell_type": "markdown",
   "metadata": {},
   "source": [
    "# TMM Demonstration Using Fabry Perot Etalon\n",
    "TMM is the foundation of RCWA so we first set up all the infrastructure to do TMM\n",
    "using scattering matrices"
   ]
  },
  {
   "cell_type": "code",
   "execution_count": 1,
   "metadata": {},
   "outputs": [],
   "source": [
    "import os\n",
    "import sys\n",
    "module_path = os.path.abspath(os.path.join('../../'))\n",
    "if module_path not in sys.path:\n",
    "    sys.path.append(module_path)\n",
    "\n",
    "import numpy as np\n",
    "import matplotlib.pyplot as plt;\n",
    "import cmath;\n",
    "from TMM_functions import PQ_matrices as pq\n",
    "from TMM_functions import scatter_matrices as sm\n",
    "from TMM_functions import redheffer_star as rs\n",
    "from TMM_functions import generate_initial_conditions as ic\n",
    "from scipy import linalg as LA\n"
   ]
  },
  {
   "cell_type": "code",
   "execution_count": 21,
   "metadata": {},
   "outputs": [
    {
     "name": "stdout",
     "output_type": "stream",
     "text": [
      "--------incident wave paramters----------------\n",
      "incident n_i: 1.0\n",
      "kx_inc: 0.8660254037844386 ky_inc: 0.0\n",
      "kz_inc: (0.5000000000000001+0j)\n",
      "-----------------------------------------------\n"
     ]
    }
   ],
   "source": [
    "'''\n",
    "raw TMM formalism using scattering matrices using a single silicon slab (should see Fabry-Perot)\n",
    "'''\n",
    "\n",
    "#%% DEFINE SIMULATION PARAMETERS\n",
    "# TMM CAN FAIL IF KZ = 0 IN ANY MEDIA, which should be unlikely if kz != 0 in incident media\n",
    "\n",
    "#% General Units\n",
    "degrees = np.pi/180;\n",
    "L0 = 1e-6; #units of microns;\n",
    "eps0 = 8.854e-12;\n",
    "mu0 = 4*np.pi*10**-7;\n",
    "c0 = 1/(np.sqrt(mu0*eps0))\n",
    "I = np.matrix(np.eye(2,2)); #unit 2x2 matrix\n",
    "\n",
    "\n",
    "## normalized units\n",
    "#z' = k0*z;\n",
    "#k = k/k0;\n",
    "\n",
    "## REFLECTION AND TRANSMSSION SPACE epsilon and mu PARAMETERS\n",
    "m_r = 1; e_r = 1;\n",
    "m_t = 1; e_t = 1;\n",
    "\n",
    "## set wavelength scanning range\n",
    "wavelengths = L0*np.linspace(0.5,2,1000); #500 nm to 1000 nm\n",
    "kmagnitude_scan = 2 * np.pi / wavelengths; #no\n",
    "omega = c0 * kmagnitude_scan; #using the dispersion wavelengths\n",
    "\n",
    "thickness_slab = 0.76*L0; #100 nm;\n",
    "#source parameters\n",
    "theta = 60 * degrees; #%elevation angle\n",
    "phi = 0 * degrees; #%azimuthal angle\n",
    "\n",
    "## incident wave properties, at this point, everything is in units of k_0\n",
    "n_i = np.sqrt(e_r*m_r);\n",
    "\n",
    "#k0 = np.sqrt(kx**2+ky**2+kz**2); we know k0, theta, and phi\n",
    "\n",
    "#actually, in the definitions here, kx = k0*sin(theta)*cos(phi), so kx, ky here are normalized\n",
    "kx = n_i*np.sin(theta)*np.cos(phi); #constant in ALL LAYERS; kx = 0 for normal incidence\n",
    "ky = n_i*np.sin(theta)*np.sin(phi); #constant in ALL LAYERS; ky = 0 for normal incidence\n",
    "kz_inc = cmath.sqrt(e_r * m_r - kx ** 2 - ky ** 2);\n",
    "\n",
    "normal_vector = np.array([0, 0, -1]) #positive z points down;\n",
    "ate_vector = np.matrix([0, 1, 0]); #vector for the out of plane E-field\n",
    "#ampltidue of the te vs tm modes (which are decoupled)\n",
    "# pte = 1/np.sqrt(2);\n",
    "# ptm = cmath.sqrt(-1)/np.sqrt(2);\n",
    "pte = 1;\n",
    "ptm = 0\n",
    "print('--------incident wave paramters----------------')\n",
    "print('incident n_i: '+str(n_i))\n",
    "print('kx_inc: '+str(kx)+' ky_inc: '+str(ky))\n",
    "print('kz_inc: ' + str(kz_inc));\n",
    "print('-----------------------------------------------')\n",
    "\n",
    "\n",
    "## specify gap media\n",
    "e_h = 1; m_h = 1;\n",
    "Pg, Qg, kzg = pq.P_Q_kz(kx, ky, e_h, m_h)\n",
    "Wg = I; #Wg should be the eigenmodes of the E field, which paparently is the identity, yes for a homogeneous medium\n",
    "sqrt_lambda = cmath.sqrt(-1)*Wg;\n",
    "# remember Vg is really Qg*(Omg)^-1; Vg is the eigenmodes of the H fields\n",
    "Vg = Qg*Wg*(sqrt_lambda)**-1;\n",
    "\n",
    "#thickness 0 means L = 0, which only pops up in the xponential part of the expression\n",
    "ER = [12];\n",
    "UR = [1];\n",
    "layer_thicknesses = [thickness_slab]; #this retains SI unit convention\n",
    "ref = list(); trans = list();\n",
    "\n"
   ]
  },
  {
   "cell_type": "code",
   "execution_count": 22,
   "metadata": {},
   "outputs": [],
   "source": [
    "for i in range(len(wavelengths)): #in SI units\n",
    "    ## initialize global scattering matrix: should be a 4x4 identity so when we start the redheffer star, we get I*SR\n",
    "\n",
    "    Sg11 = np.matrix(np.zeros((2, 2)));\n",
    "    Sg12 = np.matrix(np.eye(2, 2));\n",
    "    Sg21 = np.matrix(np.eye(2, 2));\n",
    "    Sg22 = np.matrix(np.zeros((2, 2)));  # matrices\n",
    "    Sg = np.block([[Sg11, Sg12], [Sg21, Sg22]]);  # initialization is equivelant as that for S_reflection side matrix\n",
    "    Sg0 = Sg;\n",
    "\n",
    "    ### ================= Working on the Reflection Side =========== ##\n",
    "    Pr, Qr, kzr = pq.P_Q_kz(kx, ky, e_r, m_r)\n",
    "\n",
    "    ## ============== values to keep track of =======================##\n",
    "    S_matrices = list();\n",
    "    kz_storage = [kzr];\n",
    "    X_storage = list();\n",
    "    ## ==============================================================##\n",
    "\n",
    "    # define vacuum wavevector k0\n",
    "    k0 = kmagnitude_scan[i]; #this is in SI units, it is the normalization constant for the k-vector\n",
    "    lam0 = wavelengths[i]; #k0 and lam0 are related by 2*pi/lam0 = k0\n",
    "\n",
    "    ## modes of the layer\n",
    "    Om_r = np.matrix(cmath.sqrt(-1) * kzr * I);\n",
    "    X_storage.append(Om_r);\n",
    "    W_ref = I;\n",
    "    V_ref = Qr * Om_r.I; #can't play games with V like with W because matrices for V are complex\n",
    "\n",
    "    ## calculating A and B matrices for scattering matrix\n",
    "    Ar, Br = sm.A_B_matrices(Wg, W_ref, Vg, V_ref);\n",
    "\n",
    "    S_ref, Sr_dict = sm.S_R(Ar, Br); #scatter matrix for the reflection region\n",
    "    S_matrices.append(S_ref);\n",
    "    Sg, D_r, F_r = rs.RedhefferStar(Sg, S_ref);\n",
    "\n",
    "    Q_storage = list(); P_storage=  list();\n",
    "    ## go through the layers\n",
    "    for i in range(len(ER)):\n",
    "        #ith layer material parameters\n",
    "        e = ER[i]; m = UR[i];\n",
    "\n",
    "        #longitudinal k_vector\n",
    "        P, Q, kzl = pq.P_Q_kz(kx, ky, e, m)\n",
    "        kz_storage.append(kzl)\n",
    "\n",
    "        ## E-field modes that can propagate in the medium\n",
    "        W_i = I;\n",
    "        ## corresponding H-field modes.\n",
    "        Om = cmath.sqrt(-1) * kzl * I; X_storage.append(Om)\n",
    "        V_i = Q * np.linalg.inv(Om);\n",
    "\n",
    "        #now defIne A and B\n",
    "        A,B = sm.A_B_matrices(Wg, W_i, Vg, V_i);\n",
    "\n",
    "        #calculate scattering matrix\n",
    "        S_layer, Sl_dict = sm.S_layer(A, B, layer_thicknesses[i], k0, Om)\n",
    "        S_matrices.append(S_layer);\n",
    "\n",
    "        ## update global scattering matrix using redheffer star\n",
    "        Sg, D_i, F_i = rs.RedhefferStar(Sg, S_layer);\n",
    "\n",
    "    ##========= Working on the Transmission Side==============##\n",
    "    Pt, Qt, kz_trans = pq.P_Q_kz(kx, ky, e_t, m_t);kz_storage.append(kz_trans);\n",
    "\n",
    "    Om = cmath.sqrt(-1) * kz_trans * I;\n",
    "    Vt = Qt*np.linalg.inv(Om);\n",
    "\n",
    "    #get At, Bt\n",
    "    At, Bt = sm.A_B_matrices(Wg, I, Vg, Vt)\n",
    "\n",
    "    ST, ST_dict = sm.S_T(At, Bt)\n",
    "    S_matrices.append(ST);\n",
    "    #update global scattering matrix\n",
    "    Sg, D_t, F_t = rs.RedhefferStar(Sg, ST);\n",
    "\n",
    "    K_inc_vector = n_i * k0*np.matrix([np.sin(theta) * np.cos(phi), \\\n",
    "                                    np.sin(theta) * np.sin(phi), np.cos(theta)]);\n",
    "\n",
    "    # cinc is the c1+\n",
    "    E_inc, cinc, Polarization = ic.initial_conditions(K_inc_vector, theta,  normal_vector, pte, ptm)\n",
    "\n",
    "    ## COMPUTE FIELDS\n",
    "    Er = Sg[0:2,0:2]*cinc; #S11; #(cinc = initial mode amplitudes), cout = Sg*cinc; #2d because Ex, Ey...\n",
    "    Et = Sg[2:,0:2]*cinc;  #S21\n",
    "\n",
    "    Er = np.squeeze(np.asarray(Er));\n",
    "    Et = np.squeeze(np.asarray(Et));\n",
    "\n",
    "    Erx = Er[0]; Ery = Er[1];\n",
    "    Etx = Et[0]; Ety = Et[1];\n",
    "\n",
    "    # apply the grad(E) = 0 equation to get z components\n",
    "    Erz = -(kx*Erx+ky*Ery)/kzr;\n",
    "    Etz = -(kx*Etx+ky*Ety)/kz_trans; ## using divergence of E equation here\n",
    "\n",
    "    #add in the Erz component to vectors\n",
    "    Er = np.matrix([Erx, Ery, Erz]); #a vector\n",
    "    Et = np.matrix([Etx, Ety, Etz]);\n",
    "\n",
    "    R = np.linalg.norm(Er)**2;\n",
    "    T = np.linalg.norm(Et)**2;\n",
    "    ref.append(R);\n",
    "    trans.append(T);\n",
    "\n",
    "\n"
   ]
  },
  {
   "cell_type": "code",
   "execution_count": 23,
   "metadata": {},
   "outputs": [
    {
     "name": "stdout",
     "output_type": "stream",
     "text": [
      "5.640789989847857e-17\n",
      "2.0\n"
     ]
    },
    {
     "data": {
      "image/png": "[encoded data removed]",
      "text/plain": [
       "<Figure size 432x288 with 1 Axes>"
      ]
     },
     "metadata": {
      "needs_background": "light"
     },
     "output_type": "display_data"
    },
    {
     "name": "stdout",
     "output_type": "stream",
     "text": [
      "0\n",
      "2.2110831935702664\n",
      "1\n",
      "2.019771781742534\n",
      "2\n",
      "2.0\n",
      "0.0\n",
      "[[ 9.60e-01-0.04j  0.00e+00+0.j   -1.18e-02-0.28j  0.00e+00+0.j  ]\n",
      " [ 0.00e+00+0.j    9.97e-01-0.01j  0.00e+00+0.j   -8.72e-04-0.08j]\n",
      " [-1.18e-02-0.28j  0.00e+00+0.j    9.60e-01-0.04j  0.00e+00+0.j  ]\n",
      " [ 0.00e+00+0.j   -8.72e-04-0.08j  0.00e+00+0.j    9.97e-01-0.01j]]\n",
      "[[ 9.60e-01-0.04j  0.00e+00+0.j   -1.18e-02-0.28j  0.00e+00+0.j  ]\n",
      " [ 0.00e+00+0.j    9.97e-01-0.01j  0.00e+00+0.j   -8.72e-04-0.08j]\n",
      " [-1.18e-02-0.28j  0.00e+00+0.j    9.60e-01-0.04j  0.00e+00+0.j  ]\n",
      " [ 0.00e+00+0.j   -8.72e-04-0.08j  0.00e+00+0.j    9.97e-01-0.01j]]\n"
     ]
    }
   ],
   "source": [
    "## check that Sg is unitary (medium is lossless)\n",
    "check = Sg*Sg.I;\n",
    "print(np.linalg.norm(np.eye(4,4)-check))\n",
    "#Sg is also supposed to be unitary\n",
    "print(np.linalg.norm(Sg))\n",
    "\n",
    "## BASIC PLOTTING\n",
    "ref = np.array(ref);\n",
    "trans = np.array(trans)\n",
    "plt.figure();\n",
    "plt.plot(wavelengths/L0, ref);\n",
    "plt.plot(wavelengths/L0, trans);\n",
    "plt.legend(['R', 'T'])\n",
    "plt.xlabel('wavelength (um)')\n",
    "plt.show()\n",
    "\n",
    "# def fsr(ng, l1, theta, lambda_0):\n",
    "#     return lambda_0**2/(2*ng*l1*np.cos(theta)+lambda_0)\n",
    "\n",
    "## calculate global S after the loop\n",
    "S1 = Sg0;\n",
    "for i in range(0, len(S_matrices)):\n",
    "    print(i);\n",
    "    S1, D,F = rs.RedhefferStar(S1, S_matrices[i]);\n",
    "    print(np.linalg.norm(S1))\n",
    "\n",
    "#check that S1 and Sg match\n",
    "print(np.linalg.norm(S1-Sg))\n",
    "np.set_printoptions(precision=2)\n",
    "print(S1)\n",
    "print(Sg)\n"
   ]
  },
  {
   "cell_type": "markdown",
   "metadata": {
    "collapsed": true
   },
   "source": [
    "## Comparison with Analytic Expression\n",
    "We use the impedance model\n",
    "The impedance of a medium is:\n",
    "$$\n",
    "Z_{0,TM}^{(i)} = \\sqrt{\\frac{\\mu}{\\epsilon}}\\frac{1}{cos(\\theta)}\n",
    "$$\n",
    "This is for the TM polarization\n",
    "\n",
    "For the other polarization, we have\n",
    "$$\n",
    "Z_{0,TE}^{(i)} = \\sqrt{\\frac{\\mu}{\\epsilon}}cos(\\theta)\n",
    "$$"
   ]
  },
  {
   "cell_type": "code",
   "execution_count": 24,
   "metadata": {},
   "outputs": [],
   "source": [
    "def Fabry_Perot_Spectra_Analytic(wavelengths, e_r, slab_thickness, theta, polarization = 'TE'):\n",
    "    '''\n",
    "    source is based in EE236 guided waves by Prof. Shanhui Fan\n",
    "    no need for a lattice constant\n",
    "    :param wavelengths SI units of meters:\n",
    "    :param e_r (usually between 1 and 12)\n",
    "    :param slab_thickness SI units of meters\n",
    "    :param theta = angle in degrees\n",
    "    :return:\n",
    "    '''\n",
    "    degrees = np.pi / 180;\n",
    "    angle_term = np.cos(theta*degrees)\n",
    "\n",
    "    if(polarization == 'TM'):\n",
    "        angle_term = 1/np.cos(theta*degrees)\n",
    "    \n",
    "    ## 1/cos(theta) is TM, cos(theta) is TE\n",
    "    \n",
    "    print(angle_term)\n",
    "    eps0 = 8.854e-12;\n",
    "    mu0 = 4 * np.pi *1e-7;\n",
    "    ## reflection and transmission materials\n",
    "    Z_1 = np.sqrt(mu0/eps0)*angle_term; #incident\n",
    "    \n",
    "    Z_3 = np.sqrt(mu0/eps0)*angle_term; #slab always leaves the medium in the same angle it came \n",
    "                                        #(assuming inc and out are same media)\n",
    "    \n",
    "    #do we need to calculate angle in the slab medium using Snell's law?\n",
    "    \n",
    "    # slab specifications\n",
    "    l1 = slab_thickness;\n",
    "    Z_2 = np.sqrt(mu0/eps0)*(1/e_r**0.5); #medium impedance, no angle dependence\n",
    "\n",
    "    ## define intermediate variables for impedance transform\n",
    "\n",
    "    im = cmath.sqrt(-1);\n",
    "    ref = list();\n",
    "    trans = list()\n",
    "    ## specify wavelength range to do plotting\n",
    "\n",
    "    for lam0 in wavelengths:\n",
    "        ## we need kz in the layer... omega = ck/n\n",
    "        #kz = sqrt(k_0^2 - kx^2)\n",
    "        k0 = 2*np.pi/lam0;\n",
    "        ## use snell's law to get the angle in the new medium\n",
    "        theta_medium = np.arcsin(np.sin(theta*degrees)*(1/e_r**0.5));# already in radian units\n",
    "        \n",
    "        kz = (e_r)**0.5*(2*np.pi/lam0)*np.cos(theta_medium); #assuming normal incidence\n",
    "        #kz = np.sqrt(k0**2-kx**2)\n",
    "        Zd = Z_2*(Z_3 - 1j*Z_2*np.tan(kz*l1))/(Z_2 - 1j*Z_3*np.tan(kz*l1))\n",
    "        r = (Zd - Z_1)/(Zd + Z_1);\n",
    "        ref.append(abs(r)**2);\n",
    "        trans.append(1-abs(r)**2);\n",
    "\n",
    "    return ref, trans\n",
    "\n",
    "    '''\n",
    "    behavior of the analytic model depends on where the angle term is (numerator vs denominator)\n",
    "    '''"
   ]
  },
  {
   "cell_type": "code",
   "execution_count": 25,
   "metadata": {},
   "outputs": [
    {
     "name": "stdout",
     "output_type": "stream",
     "text": [
      "0.5000000000000001\n"
     ]
    },
    {
     "data": {
      "image/png": "[encoded data removed]",
      "text/plain": [
       "<Figure size 432x288 with 1 Axes>"
      ]
     },
     "metadata": {
      "needs_background": "light"
     },
     "output_type": "display_data"
    }
   ],
   "source": [
    "# slab_thickness = 0.76*1e-6;\n",
    "# e_r = 12;\n",
    "# theta = 60\n",
    "ref_a, trans_a = Fabry_Perot_Spectra_Analytic(wavelengths,12, thickness_slab, 60, polarization = 'TE')\n",
    "plt.figure()\n",
    "plt.plot(wavelengths*1e6, ref_a);\n",
    "#lt.plot(wavelengths*1e6, trans_a);\n",
    "plt.plot(wavelengths*1e6, ref);\n",
    "\n",
    "plt.xlabel('wavelength (um)')\n",
    "plt.legend(('reflection', 'transmission'))\n",
    "plt.show()"
   ]
  },
  {
   "cell_type": "markdown",
   "metadata": {
    "collapsed": true
   },
   "source": [
    "## Off normal incidence\n",
    "At off normal incidence, a fabry perot slab becomes a narrow band pass filter\n",
    "that is, if you run the code at off-normal incidence, you will actually see that th reflection becomes better and better...and more broad-band, which is quite amazing\n",
    "In fact, because of this, many dielectric structures become very broad-band at extreme off normal incidence (i.e. the bragg mirror)"
   ]
  },
  {
   "cell_type": "markdown",
   "metadata": {},
   "source": [
    "## Angle Scan"
   ]
  },
  {
   "cell_type": "code",
   "execution_count": 7,
   "metadata": {},
   "outputs": [
    {
     "name": "stdout",
     "output_type": "stream",
     "text": [
      "[ 0.    0.91  1.82  2.73  3.64  4.55  5.45  6.36  7.27  8.18  9.09 10.\n",
      " 10.91 11.82 12.73 13.64 14.55 15.45 16.36 17.27 18.18 19.09 20.   20.91\n",
      " 21.82 22.73 23.64 24.55 25.45 26.36 27.27 28.18 29.09 30.   30.91 31.82\n",
      " 32.73 33.64 34.55 35.45 36.36 37.27 38.18 39.09 40.   40.91 41.82 42.73\n",
      " 43.64 44.55 45.45 46.36 47.27 48.18 49.09 50.   50.91 51.82 52.73 53.64\n",
      " 54.55 55.45 56.36 57.27 58.18 59.09 60.   60.91 61.82 62.73 63.64 64.55\n",
      " 65.45 66.36 67.27 68.18 69.09 70.   70.91 71.82 72.73 73.64 74.55 75.45\n",
      " 76.36 77.27 78.18 79.09 80.   80.91 81.82 82.73 83.64 84.55 85.45 86.36\n",
      " 87.27 88.18 89.09 90.  ]\n"
     ]
    },
    {
     "ename": "AttributeError",
     "evalue": "'numpy.ndarray' object has no attribute 'append'",
     "output_type": "error",
     "traceback": [
      "\u001b[1;31m---------------------------------------------------------------------------\u001b[0m",
      "\u001b[1;31mAttributeError\u001b[0m                            Traceback (most recent call last)",
      "\u001b[1;32m<ipython-input-7-fe3e1d24233c>\u001b[0m in \u001b[0;36m<module>\u001b[1;34m\u001b[0m\n\u001b[0;32m     30\u001b[0m     \u001b[0mZd\u001b[0m \u001b[1;33m=\u001b[0m \u001b[0mZ_2\u001b[0m\u001b[1;33m*\u001b[0m\u001b[1;33m(\u001b[0m\u001b[0mZ_3\u001b[0m \u001b[1;33m-\u001b[0m \u001b[1;36m1j\u001b[0m\u001b[1;33m*\u001b[0m\u001b[0mZ_2\u001b[0m\u001b[1;33m*\u001b[0m\u001b[0mnp\u001b[0m\u001b[1;33m.\u001b[0m\u001b[0mtan\u001b[0m\u001b[1;33m(\u001b[0m\u001b[0mkz\u001b[0m\u001b[1;33m*\u001b[0m\u001b[0ml1\u001b[0m\u001b[1;33m)\u001b[0m\u001b[1;33m)\u001b[0m\u001b[1;33m/\u001b[0m\u001b[1;33m(\u001b[0m\u001b[0mZ_2\u001b[0m \u001b[1;33m-\u001b[0m \u001b[1;36m1j\u001b[0m\u001b[1;33m*\u001b[0m\u001b[0mZ_3\u001b[0m\u001b[1;33m*\u001b[0m\u001b[0mnp\u001b[0m\u001b[1;33m.\u001b[0m\u001b[0mtan\u001b[0m\u001b[1;33m(\u001b[0m\u001b[0mkz\u001b[0m\u001b[1;33m*\u001b[0m\u001b[0ml1\u001b[0m\u001b[1;33m)\u001b[0m\u001b[1;33m)\u001b[0m\u001b[1;33m\u001b[0m\u001b[1;33m\u001b[0m\u001b[0m\n\u001b[0;32m     31\u001b[0m     \u001b[0mr\u001b[0m \u001b[1;33m=\u001b[0m \u001b[1;33m(\u001b[0m\u001b[0mZd\u001b[0m \u001b[1;33m-\u001b[0m \u001b[0mZ_1\u001b[0m\u001b[1;33m)\u001b[0m\u001b[1;33m/\u001b[0m\u001b[1;33m(\u001b[0m\u001b[0mZd\u001b[0m \u001b[1;33m+\u001b[0m \u001b[0mZ_1\u001b[0m\u001b[1;33m)\u001b[0m\u001b[1;33m;\u001b[0m\u001b[1;33m\u001b[0m\u001b[1;33m\u001b[0m\u001b[0m\n\u001b[1;32m---> 32\u001b[1;33m     \u001b[0mref\u001b[0m\u001b[1;33m.\u001b[0m\u001b[0mappend\u001b[0m\u001b[1;33m(\u001b[0m\u001b[0mabs\u001b[0m\u001b[1;33m(\u001b[0m\u001b[0mr\u001b[0m\u001b[1;33m)\u001b[0m\u001b[1;33m**\u001b[0m\u001b[1;36m2\u001b[0m\u001b[1;33m)\u001b[0m\u001b[1;33m;\u001b[0m\u001b[1;33m\u001b[0m\u001b[1;33m\u001b[0m\u001b[0m\n\u001b[0m\u001b[0;32m     33\u001b[0m     \u001b[0mtrans\u001b[0m\u001b[1;33m.\u001b[0m\u001b[0mappend\u001b[0m\u001b[1;33m(\u001b[0m\u001b[1;36m1\u001b[0m\u001b[1;33m-\u001b[0m\u001b[0mabs\u001b[0m\u001b[1;33m(\u001b[0m\u001b[0mr\u001b[0m\u001b[1;33m)\u001b[0m\u001b[1;33m**\u001b[0m\u001b[1;36m2\u001b[0m\u001b[1;33m)\u001b[0m\u001b[1;33m;\u001b[0m\u001b[1;33m\u001b[0m\u001b[1;33m\u001b[0m\u001b[0m\n\u001b[0;32m     34\u001b[0m \u001b[1;33m\u001b[0m\u001b[0m\n",
      "\u001b[1;31mAttributeError\u001b[0m: 'numpy.ndarray' object has no attribute 'append'"
     ]
    }
   ],
   "source": [
    "theta_scan = np.linspace(0,90, 100);\n",
    "print(theta_scan)\n",
    "wvlen = 2.5*1e-6;\n",
    "eps0 = 8.854e-12;\n",
    "mu0 = 4 * np.pi *1e-7;\n",
    "## reflection and transmission materials\n",
    "\n",
    "\n",
    "#do we need to calculate angle in the slab medium using Snell's law?\n",
    "\n",
    "# slab specifications\n",
    "l1 = 0.76e-6;\n",
    "Z_2 = np.sqrt(mu0/eps0)*(1/e_r**0.5); #medium impedance, no angle dependence\n",
    "\n",
    "## define intermediate variables for impedance transform\n",
    "\n",
    "im = cmath.sqrt(-1);\n",
    "ref_ang_scan = list();\n",
    "trans_ang_scan = list()\n",
    "## specify wavelength range to do plotting\n",
    "\n",
    "for theta in theta_scan:\n",
    "    ## we need kz in the layer... omega = ck/n\n",
    "    angle_term = 1/np.cos(theta*np.pi/180);\n",
    "    Z_1 = np.sqrt(mu0/eps0)*angle_term; #incident\n",
    "    Z_3 = np.sqrt(mu0/eps0)*angle_term; #slab always leaves the medium in the same angle it came \n",
    "                                        #(assuming inc and out are same media)\n",
    "    kz = (e_r)**0.5*(2*np.pi/wvlen)*np.cos(theta*degrees); #assuming normal incidence\n",
    "\n",
    "    Zd = Z_2*(Z_3 - 1j*Z_2*np.tan(kz*l1))/(Z_2 - 1j*Z_3*np.tan(kz*l1))\n",
    "    r = (Zd - Z_1)/(Zd + Z_1);\n",
    "    ref.append(abs(r)**2);\n",
    "    trans.append(1-abs(r)**2);\n",
    "    \n",
    "plt.plot(theta_scan, ref_ang_scan);\n",
    "plt.plot(theta_scan, trans_ang_scan);\n",
    "plt.legend(('R', 'T'))\n",
    "plt.show();"
   ]
  },
  {
   "cell_type": "markdown",
   "metadata": {},
   "source": [
    "It's not obvious what the angle scan should reveal.\n",
    "In the single interface (two semi-infinite media) case, we have the typical Brewster's angle for the TM polarization with the reflection going to 1 as the angle gets closer to 90 degrees\n",
    "\n",
    "## ANGLE SCAN NUMERICALLY"
   ]
  },
  {
   "cell_type": "code",
   "execution_count": null,
   "metadata": {},
   "outputs": [],
   "source": []
  }
 ],
 "metadata": {
  "kernelspec": {
   "display_name": "Python 3",
   "language": "python",
   "name": "python3"
  },
  "language_info": {
   "codemirror_mode": {
    "name": "ipython",
    "version": 3
   },
   "file_extension": ".py",
   "mimetype": "text/x-python",
   "name": "python",
   "nbconvert_exporter": "python",
   "pygments_lexer": "ipython3",
   "version": "3.7.3"
  }
 },
 "nbformat": 4,
 "nbformat_minor": 1
}
