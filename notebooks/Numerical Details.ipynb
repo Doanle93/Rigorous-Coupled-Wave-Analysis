{
 "cells": [
  {
   "cell_type": "markdown",
   "metadata": {},
   "source": [
    "## the fft function\n",
    "Let's make sure we're doing the fft with numpy correctly (i.e. it should agree with MatLab), but to how many decimal places?"
   ]
  },
  {
   "cell_type": "code",
   "execution_count": 27,
   "metadata": {},
   "outputs": [],
   "source": [
    "import numpy as np\n",
    "import sys\n",
    "sys.path.append(\"D:/StanfordYearTwo/RCWA\")\n",
    "from convolution_matrices import convmat2D as cm\n"
   ]
  },
  {
   "cell_type": "code",
   "execution_count": 28,
   "metadata": {},
   "outputs": [
    {
     "name": "stdout",
     "output_type": "stream",
     "text": [
      "[1.01851004+0.j         0.80316487+1.39112235j 0.80316487-1.39112235j]\n"
     ]
    }
   ],
   "source": [
    "A = np.array([ 0.87494659,-0.73138314,0.87494659])\n",
    "\n",
    "result = np.fft.fft(A,n=3)\n",
    "print(result)\n",
    "## appears to be agreement to a large number of decimal places"
   ]
  },
  {
   "cell_type": "markdown",
   "metadata": {},
   "source": [
    "$$\n",
    "ans = [1.018510040000000 + 0.000000000000000i, \n",
    "  0.803164865000000 + 1.391122353034198i, \n",
    "  0.803164865000000 - 1.391122353034198i]\n",
    "$$"
   ]
  },
  {
   "cell_type": "markdown",
   "metadata": {},
   "source": [
    "### in RCWA\n",
    "In RCWA, for patterned layers, we can take an FFT"
   ]
  },
  {
   "cell_type": "code",
   "execution_count": 30,
   "metadata": {},
   "outputs": [
    {
     "data": {
      "image/png": "[encoded data removed]",
      "text/plain": [
       "<Figure size 432x288 with 2 Axes>"
      ]
     },
     "metadata": {},
     "output_type": "display_data"
    },
    {
     "name": "stdout",
     "output_type": "stream",
     "text": [
      "<class 'numpy.ndarray'>\n"
     ]
    },
    {
     "data": {
      "image/png": "[encoded data removed]",
      "text/plain": [
       "<Figure size 432x288 with 2 Axes>"
      ]
     },
     "metadata": {},
     "output_type": "display_data"
    }
   ],
   "source": [
    "import matplotlib.pyplot as plt\n",
    "## lattice and material parameters\n",
    "a = 1;\n",
    "radius = 0.2*a; #0.4;\n",
    "e_r = 12;\n",
    "\n",
    "#generate irreducible BZ sample\n",
    "T1 = 2*np.pi/a;\n",
    "T2 = 2*np.pi/a;\n",
    "\n",
    "## Specify number of fourier orders to use:\n",
    "N = 1; M = 1;\n",
    "NM = (2*N+1)*(2*M+1);\n",
    "\n",
    "# ============== build high resolution circle ==================\n",
    "Nx = 512; Ny = 512;\n",
    "A = e_r*np.ones((Nx,Ny));\n",
    "ci = int(Nx/2); cj= int(Ny/2);\n",
    "cr = (radius/a)*Nx;\n",
    "I,J=np.meshgrid(np.arange(A.shape[0]),np.arange(A.shape[1]));\n",
    "\n",
    "dist = np.sqrt((I-ci)**2 + (J-cj)**2);\n",
    "A[np.where(dist<cr)] = 1;\n",
    "\n",
    "#visualize structure\n",
    "plt.imshow(A);\n",
    "plt.colorbar();\n",
    "plt.show()\n",
    "\n",
    "## =============== Convolution Matrices ==============\n",
    "\n",
    "## fft alone\n",
    "Af = (1 / np.prod(N)) * np.fft.fftshift(np.fft.fft2(A));\n",
    "\n",
    "\n",
    "E_r = cm.convmat2D(A, N,M)\n",
    "print(type(E_r))\n",
    "plt.figure();\n",
    "plt.imshow(abs(E_r), cmap = 'jet');\n",
    "plt.colorbar()\n",
    "plt.show()"
   ]
  },
  {
   "cell_type": "code",
   "execution_count": 34,
   "metadata": {},
   "outputs": [
    {
     "name": "stdout",
     "output_type": "stream",
     "text": [
      "[[ -11.        +0.00000000e+00j    2.78795942-1.13686838e-13j\n",
      "    54.49429876+0.00000000e+00j ... -179.77229926+1.43884904e-13j\n",
      "    54.49429876+0.00000000e+00j    2.78795942+1.13686838e-13j]\n",
      " [   2.78795942-3.77054237e-16j  -19.87525009+6.25855302e-14j\n",
      "    19.54104782+5.39070621e-14j ...   62.54158308-6.48181674e-14j\n",
      "    19.54104782-6.24097146e-14j  -19.87525009-2.62828830e-14j]\n",
      " [  54.49429876-3.82805798e-15j   19.54104782+4.55334635e-14j\n",
      "  -150.11657726-7.96018224e-14j ...  174.91110779-2.63467932e-14j\n",
      "  -150.11657726+1.25818226e-13j   19.54104782-3.91610824e-14j]\n",
      " ...\n",
      " [-179.77229926-3.57932703e-14j   62.54158308+9.77834630e-14j\n",
      "   174.91110779+5.46843590e-14j ... -306.47861514-1.16587254e-13j\n",
      "   174.91110779-5.05109893e-15j   62.54158308-6.59190484e-14j]\n",
      " [  54.49429876+1.71368991e-14j   19.54104782+3.91610824e-14j\n",
      "  -150.11657726-1.25818226e-13j ...  174.91110779-1.46240502e-15j\n",
      "  -150.11657726+7.96018224e-14j   19.54104782-4.55334635e-14j]\n",
      " [   2.78795942-2.87799670e-15j  -19.87525009+2.62828830e-14j\n",
      "    19.54104782+6.24097146e-14j ...   62.54158308-3.24118763e-14j\n",
      "    19.54104782-5.39070621e-14j  -19.87525009-6.25855302e-14j]]\n"
     ]
    }
   ],
   "source": [
    "np.set_printoptions(precision = 8)\n",
    "print(Af)"
   ]
  },
  {
   "cell_type": "code",
   "execution_count": null,
   "metadata": {
    "collapsed": true
   },
   "outputs": [],
   "source": []
  },
  {
   "cell_type": "code",
   "execution_count": null,
   "metadata": {
    "collapsed": true
   },
   "outputs": [],
   "source": []
  },
  {
   "cell_type": "markdown",
   "metadata": {},
   "source": [
    "Matlab answer AT LEAST agrees in terms of the magnitude (abs) but the real and imaginary parts do appear to have disagreement\n",
    "ans =\n",
    "\n",
    "   1.0e+02 *\n",
    "\n",
    "  Column 1\n",
    "\n",
    " -0.110000000000000 + 0.000000000000000i  <br>\n",
    "  0.027877494914885 + 0.000342125507580i <br>\n",
    "  0.544778860922760 + 0.013373570389723i <br>\n",
    "\n",
    "  Column 2\n",
    "\n",
    "  0.027877494914876 + 0.000342125507579i <br>\n",
    " -0.198692640333564 - 0.004877630543374i <br>\n",
    "  0.195278065014253 + 0.007192517034929i<br>\n",
    "\n",
    "  Column 3\n",
    "\n",
    "  0.544778860922757 + 0.013373570389724i <br>\n",
    "  0.195278065014249 + 0.007192517034928i <br>\n",
    " -1.499357552702474 - 0.073658713242330i <br>"
   ]
  },
  {
   "cell_type": "code",
   "execution_count": null,
   "metadata": {
    "collapsed": true
   },
   "outputs": [],
   "source": []
  }
 ],
 "metadata": {
  "kernelspec": {
   "display_name": "Python 3",
   "language": "python",
   "name": "python3"
  },
  "language_info": {
   "codemirror_mode": {
    "name": "ipython",
    "version": 3
   },
   "file_extension": ".py",
   "mimetype": "text/x-python",
   "name": "python",
   "nbconvert_exporter": "python",
   "pygments_lexer": "ipython3",
   "version": "3.6.3"
  }
 },
 "nbformat": 4,
 "nbformat_minor": 2
}
